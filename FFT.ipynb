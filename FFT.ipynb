{
 "cells": [
  {
   "cell_type": "markdown",
   "id": "3f051c2e",
   "metadata": {},
   "source": [
    "## FFT (Fast Fourier Transform)\n",
    "\n",
    "Szybkie przekształcenie jest algorytmem pozwalającym na redukcję złozoności obliczania dyskrentego przekształcenia Fouriera o jeden rząd, tj. ze złożoności $\\mathcal{O}(N^2)$ do złożoności rzędu $\\mathcal{O}(N\\log_2N)$. Budowa szybkiego przekształcenia (ang. *Fast Fourier Transform* (FFT)) jest możliwa dzięki pewnym własnościom symetrii funkcji bazowych (macierzy) dyskretnego przekształcenia Fouriera i jest realizowana w myśl strategii \"dziel i rządź\". Wyprowadzenie FFT zamieszczono w dodatkowych materiałach. Poniżej prezentujemy wyłącznie szkielet algorytmu opartego o pętle. Nie jest algorytm rekurencyjny, chociaż rekurencja jest naturalnym narzędziem realizacji algorytmów budowanych w myśl wspomnianej strategii."
   ]
  },
  {
   "cell_type": "code",
   "execution_count": 1,
   "id": "879be695",
   "metadata": {},
   "outputs": [],
   "source": [
    "import numpy as np\n",
    "import math"
   ]
  },
  {
   "cell_type": "markdown",
   "id": "37a03b19",
   "metadata": {},
   "source": [
    "Elementy wektora podawane na wejście przekształcenia FFT muszą być przemieszane zgodnie z kolejnością *bit-reverse*. Poniższa funkcja realizuje wspomnianą permutację."
   ]
  },
  {
   "cell_type": "code",
   "execution_count": 2,
   "id": "c97c3076",
   "metadata": {},
   "outputs": [],
   "source": [
    "def bit_reverse(x,N,n):\n",
    "\n",
    "\tfor i in range(0,N):\n",
    "\t\tj=0\n",
    "\t\tfor k in range(0,n):\n",
    "\t\t\tj<<=1\n",
    "\t\t\tj+=(i>>k)&1\n",
    "\t\tprint('i:',i,'-> j:',j)\n",
    "\t\tif (j>i):\n",
    "\t\t\tt=x[i]\n",
    "\t\t\tx[i]=x[j]\n",
    "\t\t\tx[j]=t\n",
    "\treturn x"
   ]
  },
  {
   "cell_type": "markdown",
   "id": "625bd755",
   "metadata": {},
   "source": [
    "Bardzo proszę zastanowić się nad złożonością (w sensie rzędu) tej procedury. W dalszej kolejności prezentujemy szablon algorytmu FFT. Zmienna *nb* jest odpowiedzialna za liczbę bloków motylków. Ta liczba na początku wynosi $N/2$ i jest sukcesywnie zmniejszana dwukrotnie na każdym etapie działania algorytmu (tj. dla $i=0,1,...,\\log_2N-1$). Druga zmianna *ne* reprezentuje liczbę motylków w każdym bloku. Na początku ta liczba wynosi jeden i jest sukcesywnie zwiększana dwukrotnie na każdym etapie. Do wyznaczania punktów przyłożenia operacji motylkowych (odpowiedzilanych za operacje dodawanie/odejmowanie) wyznaczamy według wzorów:\n",
    "\n",
    "$i1=2*k*ne+l$,\n",
    "\n",
    "$i2=i1+ne$,\n",
    "\n",
    "gdzie $k=0,1,...,nb-1$ i $l=0,1,...,ne-1$."
   ]
  },
  {
   "cell_type": "code",
   "execution_count": 3,
   "id": "6e5665f2",
   "metadata": {},
   "outputs": [],
   "source": [
    "def fft_template(x,N,n):\n",
    "\n",
    "\tX=np.zeros(N,complex)\n",
    "\tnb=N//2\n",
    "\tne=1\n",
    "\t# motylki\n",
    "\tfor i in range(0,n):\n",
    "\t\tprint('------------------- i:',i)\n",
    "\t\tfor k in range(0,nb):\n",
    "\t\t\tprint('### -> nb:',k)\n",
    "\t\t\tfor l in range(0,ne):\n",
    "\t\t\t\ti1=2*k*ne+l\n",
    "\t\t\t\ti2=i1+ne\n",
    "\t\t\t\tprint('(',i1,',',i2,')')\n",
    "\t\tnb//=2\n",
    "\t\tne*=2\n",
    "\tprint('-------------------')\n",
    "\treturn X"
   ]
  },
  {
   "cell_type": "markdown",
   "id": "44eeaadf",
   "metadata": {},
   "source": [
    "Poniżej zamieszczamy kod mający za zadanie przetestować działania procedury realizującej permutację, jak również samego szablonu algorytmu FFT."
   ]
  },
  {
   "cell_type": "code",
   "execution_count": 4,
   "id": "c743771f",
   "metadata": {},
   "outputs": [
    {
     "name": "stdout",
     "output_type": "stream",
     "text": [
      "N: 16 n: 4\n",
      "i: 0 -> j: 0\n",
      "i: 1 -> j: 8\n",
      "i: 2 -> j: 4\n",
      "i: 3 -> j: 12\n",
      "i: 4 -> j: 2\n",
      "i: 5 -> j: 10\n",
      "i: 6 -> j: 6\n",
      "i: 7 -> j: 14\n",
      "i: 8 -> j: 1\n",
      "i: 9 -> j: 9\n",
      "i: 10 -> j: 5\n",
      "i: 11 -> j: 13\n",
      "i: 12 -> j: 3\n",
      "i: 13 -> j: 11\n",
      "i: 14 -> j: 7\n",
      "i: 15 -> j: 15\n",
      "[ 0  8  4 12  2 10  6 14  1  9  5 13  3 11  7 15]\n",
      "------------------- i: 0\n",
      "### -> nb: 0\n",
      "( 0 , 1 )\n",
      "### -> nb: 1\n",
      "( 2 , 3 )\n",
      "### -> nb: 2\n",
      "( 4 , 5 )\n",
      "### -> nb: 3\n",
      "( 6 , 7 )\n",
      "### -> nb: 4\n",
      "( 8 , 9 )\n",
      "### -> nb: 5\n",
      "( 10 , 11 )\n",
      "### -> nb: 6\n",
      "( 12 , 13 )\n",
      "### -> nb: 7\n",
      "( 14 , 15 )\n",
      "------------------- i: 1\n",
      "### -> nb: 0\n",
      "( 0 , 2 )\n",
      "( 1 , 3 )\n",
      "### -> nb: 1\n",
      "( 4 , 6 )\n",
      "( 5 , 7 )\n",
      "### -> nb: 2\n",
      "( 8 , 10 )\n",
      "( 9 , 11 )\n",
      "### -> nb: 3\n",
      "( 12 , 14 )\n",
      "( 13 , 15 )\n",
      "------------------- i: 2\n",
      "### -> nb: 0\n",
      "( 0 , 4 )\n",
      "( 1 , 5 )\n",
      "( 2 , 6 )\n",
      "( 3 , 7 )\n",
      "### -> nb: 1\n",
      "( 8 , 12 )\n",
      "( 9 , 13 )\n",
      "( 10 , 14 )\n",
      "( 11 , 15 )\n",
      "------------------- i: 3\n",
      "### -> nb: 0\n",
      "( 0 , 8 )\n",
      "( 1 , 9 )\n",
      "( 2 , 10 )\n",
      "( 3 , 11 )\n",
      "( 4 , 12 )\n",
      "( 5 , 13 )\n",
      "( 6 , 14 )\n",
      "( 7 , 15 )\n",
      "-------------------\n"
     ]
    }
   ],
   "source": [
    "N=16\n",
    "n=int(math.ceil(math.log(N)/math.log(2)))\n",
    "print('N:',N,'n:',n)\n",
    "x=np.zeros(N,float)\n",
    "x=np.arange(0,N)\n",
    "x=bit_reverse(x,N,n)\n",
    "print(x)\n",
    "X=fft_template(x,N,n)"
   ]
  },
  {
   "cell_type": "markdown",
   "id": "d7cb291f",
   "metadata": {},
   "source": [
    "Ponieważ warto jest porównać wyniki uzyskane za pomocą DFT i naszej implementacji FFT podajemy poniżej implementację DFT w oparciu o proste biblioteki. Takie porównanie powinno dawać zgodne wyniki z dokładnością do pewnego (odległe, około piątego, szóstego) miejsca po przecinku. Tym samym nie należy porównywać wartości literalnie. Procedura na wejściu przyjmuje dwie tablice przedstawiające odpowiednio części rzeczywiste (xr) i urojone (xi) danych wejściowych. Na wyjściu oczekujemy również dwóch tablic reprezentujących części rzeczywiste (Xr) i urojone (Xi) współczynników Fouriera."
   ]
  },
  {
   "cell_type": "code",
   "execution_count": 21,
   "id": "3a146bce",
   "metadata": {},
   "outputs": [
    {
     "name": "stdout",
     "output_type": "stream",
     "text": [
      "[ 1.  2.  3. -4.] = [ 1.  2.  3. -4.]\n",
      "[ 1. -1. -1.  1.] = [ 1. -1. -1.  1.]\n"
     ]
    }
   ],
   "source": [
    "def DFT(xr,xi):\n",
    "    \n",
    "    N=len(xr)\n",
    "    Xr=np.zeros(N,float)\n",
    "    Xi=np.zeros(N,float)\n",
    "    for k in range(0,N):\n",
    "        for n in range(0,N):\n",
    "            a=2*math.pi/N*k*n\n",
    "            c=math.cos(a)\n",
    "            s=math.sin(a)\n",
    "            Xr[k]=Xr[k]+(c*xr[n]+s*xi[n])\n",
    "            Xi[k]=Xi[k]+(c*xi[n]-s*xr[n])\n",
    "    return (Xr,Xi)\n",
    "\n",
    "def IDFT(Xr,Xi):\n",
    "    \n",
    "    N=len(Xr)\n",
    "    xr=np.zeros(N,float)\n",
    "    xi=np.zeros(N,float)\n",
    "    for n in range(0,N):\n",
    "        for k in range(0,N):\n",
    "            a=-2*math.pi/N*k*n\n",
    "            c=math.cos(a)\n",
    "            s=math.sin(a)\n",
    "            xr[n]=xr[n]+(c*Xr[k]+s*Xi[k])\n",
    "            xi[n]=xi[n]+(c*Xi[k]-s*Xr[k])\n",
    "    return (xr/N,xi/N)\n",
    "\n",
    "# przyklad użycia\n",
    "xr=np.array([1,2,3,-4],dtype=float)\n",
    "xi=np.array([1,-1,-1,1],dtype=float)\n",
    "(Xr,Xi)=DFT(xr,xi)\n",
    "(zr,zi)=IDFT(Xr,Xi)\n",
    "print(xr,'=',zr)\n",
    "print(xi,'=',zi)"
   ]
  },
  {
   "cell_type": "markdown",
   "id": "6f80a494",
   "metadata": {},
   "source": [
    "---"
   ]
  }
 ],
 "metadata": {
  "kernelspec": {
   "display_name": "Python 3 (ipykernel)",
   "language": "python",
   "name": "python3"
  },
  "language_info": {
   "codemirror_mode": {
    "name": "ipython",
    "version": 3
   },
   "file_extension": ".py",
   "mimetype": "text/x-python",
   "name": "python",
   "nbconvert_exporter": "python",
   "pygments_lexer": "ipython3",
   "version": "3.10.8"
  }
 },
 "nbformat": 4,
 "nbformat_minor": 5
}
